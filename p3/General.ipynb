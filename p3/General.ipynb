{
 "cells": [
  {
   "cell_type": "code",
   "execution_count": 88,
   "id": "b5e59a80-5af9-42db-9bb1-c5bbe1baf5c8",
   "metadata": {},
   "outputs": [
    {
     "name": "stderr",
     "output_type": "stream",
     "text": [
      "/home/michael/virpy/lib/python3.12/site-packages/IPython/core/magics/osm.py:417: UserWarning: This is now an optional IPython functionality, setting dhist requires you to install the `pickleshare` library.\n",
      "  self.shell.db['dhist'] = compress_dhist(dhist)[-100:]\n"
     ]
    },
    {
     "name": "stdout",
     "output_type": "stream",
     "text": [
      "/home/michael/code/python/datathon\n"
     ]
    }
   ],
   "source": [
    "%cd /home/michael/code/python/datathon\n",
    "import numpy as np\n",
    "import pandas as pd\n",
    "import matplotlib.pyplot as plt\n",
    "import sklearn\n",
    "from skforecast.ForecasterAutoreg import ForecasterAutoreg\n",
    "from sklearn.tree import DecisionTreeRegressor\n",
    "from sklearn.linear_model import LinearRegression\n",
    "from sklearn.metrics import r2_score\n",
    "from sklearn.model_selection import train_test_split\n",
    "import matplotlib.pyplot as plt\n",
    "import math\n",
    "\n",
    "pdp = pd.read_csv(\"pdp_data.csv\")\n",
    "bflies = pd.read_csv(\"butterflies_data.csv\")\n",
    "\n",
    "cncavgs = {}\n",
    "pesticides = set()\n",
    "concentration_normalized_averages = pdp.groupby('year')['concentration_normalized'].mean()\n",
    "pdp = pdp[pdp['concentration'].notna()]\n",
    "for i in pdp[\"pesticide_name\"]:\n",
    "    pesticides.add(i)"
   ]
  },
  {
   "cell_type": "code",
   "execution_count": 22,
   "id": "59a4360d-477f-4e9e-8d11-3e9d06b0b2a8",
   "metadata": {},
   "outputs": [
    {
     "data": {
      "text/html": [
       "<div>\n",
       "<style scoped>\n",
       "    .dataframe tbody tr th:only-of-type {\n",
       "        vertical-align: middle;\n",
       "    }\n",
       "\n",
       "    .dataframe tbody tr th {\n",
       "        vertical-align: top;\n",
       "    }\n",
       "\n",
       "    .dataframe thead th {\n",
       "        text-align: right;\n",
       "    }\n",
       "</style>\n",
       "<table border=\"1\" class=\"dataframe\">\n",
       "  <thead>\n",
       "    <tr style=\"text-align: right;\">\n",
       "      <th></th>\n",
       "      <th>year</th>\n",
       "      <th>number</th>\n",
       "    </tr>\n",
       "  </thead>\n",
       "  <tbody>\n",
       "    <tr>\n",
       "      <th>0</th>\n",
       "      <td>1997</td>\n",
       "      <td>630</td>\n",
       "    </tr>\n",
       "    <tr>\n",
       "      <th>1</th>\n",
       "      <td>1998</td>\n",
       "      <td>764</td>\n",
       "    </tr>\n",
       "    <tr>\n",
       "      <th>2</th>\n",
       "      <td>1999</td>\n",
       "      <td>1138</td>\n",
       "    </tr>\n",
       "    <tr>\n",
       "      <th>3</th>\n",
       "      <td>2000</td>\n",
       "      <td>1200</td>\n",
       "    </tr>\n",
       "    <tr>\n",
       "      <th>4</th>\n",
       "      <td>2001</td>\n",
       "      <td>2189</td>\n",
       "    </tr>\n",
       "    <tr>\n",
       "      <th>5</th>\n",
       "      <td>2002</td>\n",
       "      <td>1900</td>\n",
       "    </tr>\n",
       "    <tr>\n",
       "      <th>6</th>\n",
       "      <td>2003</td>\n",
       "      <td>9647</td>\n",
       "    </tr>\n",
       "    <tr>\n",
       "      <th>7</th>\n",
       "      <td>2004</td>\n",
       "      <td>2560</td>\n",
       "    </tr>\n",
       "    <tr>\n",
       "      <th>8</th>\n",
       "      <td>2005</td>\n",
       "      <td>59330</td>\n",
       "    </tr>\n",
       "    <tr>\n",
       "      <th>9</th>\n",
       "      <td>2006</td>\n",
       "      <td>12391</td>\n",
       "    </tr>\n",
       "    <tr>\n",
       "      <th>10</th>\n",
       "      <td>2007</td>\n",
       "      <td>4095271</td>\n",
       "    </tr>\n",
       "    <tr>\n",
       "      <th>11</th>\n",
       "      <td>2008</td>\n",
       "      <td>75570</td>\n",
       "    </tr>\n",
       "    <tr>\n",
       "      <th>12</th>\n",
       "      <td>2009</td>\n",
       "      <td>223173</td>\n",
       "    </tr>\n",
       "    <tr>\n",
       "      <th>13</th>\n",
       "      <td>2010</td>\n",
       "      <td>364817</td>\n",
       "    </tr>\n",
       "    <tr>\n",
       "      <th>14</th>\n",
       "      <td>2011</td>\n",
       "      <td>169849</td>\n",
       "    </tr>\n",
       "    <tr>\n",
       "      <th>15</th>\n",
       "      <td>2012</td>\n",
       "      <td>333005</td>\n",
       "    </tr>\n",
       "    <tr>\n",
       "      <th>16</th>\n",
       "      <td>2013</td>\n",
       "      <td>41712</td>\n",
       "    </tr>\n",
       "    <tr>\n",
       "      <th>17</th>\n",
       "      <td>2014</td>\n",
       "      <td>10154245</td>\n",
       "    </tr>\n",
       "    <tr>\n",
       "      <th>18</th>\n",
       "      <td>2015</td>\n",
       "      <td>499086</td>\n",
       "    </tr>\n",
       "    <tr>\n",
       "      <th>19</th>\n",
       "      <td>2016</td>\n",
       "      <td>178521</td>\n",
       "    </tr>\n",
       "    <tr>\n",
       "      <th>20</th>\n",
       "      <td>2017</td>\n",
       "      <td>264112</td>\n",
       "    </tr>\n",
       "    <tr>\n",
       "      <th>21</th>\n",
       "      <td>2018</td>\n",
       "      <td>1780968</td>\n",
       "    </tr>\n",
       "    <tr>\n",
       "      <th>22</th>\n",
       "      <td>2019</td>\n",
       "      <td>625262</td>\n",
       "    </tr>\n",
       "    <tr>\n",
       "      <th>23</th>\n",
       "      <td>2020</td>\n",
       "      <td>459691</td>\n",
       "    </tr>\n",
       "  </tbody>\n",
       "</table>\n",
       "</div>"
      ],
      "text/plain": [
       "    year    number\n",
       "0   1997       630\n",
       "1   1998       764\n",
       "2   1999      1138\n",
       "3   2000      1200\n",
       "4   2001      2189\n",
       "5   2002      1900\n",
       "6   2003      9647\n",
       "7   2004      2560\n",
       "8   2005     59330\n",
       "9   2006     12391\n",
       "10  2007   4095271\n",
       "11  2008     75570\n",
       "12  2009    223173\n",
       "13  2010    364817\n",
       "14  2011    169849\n",
       "15  2012    333005\n",
       "16  2013     41712\n",
       "17  2014  10154245\n",
       "18  2015    499086\n",
       "19  2016    178521\n",
       "20  2017    264112\n",
       "21  2018   1780968\n",
       "22  2019    625262\n",
       "23  2020    459691"
      ]
     },
     "execution_count": 22,
     "metadata": {},
     "output_type": "execute_result"
    }
   ],
   "source": [
    "bflies.groupby('year')['number'].sum().reset_index()"
   ]
  },
  {
   "cell_type": "code",
   "execution_count": 23,
   "id": "0494ce3b-02a6-4fcd-b72c-3e7a3f7d922e",
   "metadata": {},
   "outputs": [
    {
     "data": {
      "text/html": [
       "<div>\n",
       "<style scoped>\n",
       "    .dataframe tbody tr th:only-of-type {\n",
       "        vertical-align: middle;\n",
       "    }\n",
       "\n",
       "    .dataframe tbody tr th {\n",
       "        vertical-align: top;\n",
       "    }\n",
       "\n",
       "    .dataframe thead th {\n",
       "        text-align: right;\n",
       "    }\n",
       "</style>\n",
       "<table border=\"1\" class=\"dataframe\">\n",
       "  <thead>\n",
       "    <tr style=\"text-align: right;\">\n",
       "      <th></th>\n",
       "      <th>year</th>\n",
       "      <th>number</th>\n",
       "    </tr>\n",
       "  </thead>\n",
       "  <tbody>\n",
       "    <tr>\n",
       "      <th>0</th>\n",
       "      <td>1997</td>\n",
       "      <td>630</td>\n",
       "    </tr>\n",
       "    <tr>\n",
       "      <th>1</th>\n",
       "      <td>1998</td>\n",
       "      <td>764</td>\n",
       "    </tr>\n",
       "    <tr>\n",
       "      <th>2</th>\n",
       "      <td>1999</td>\n",
       "      <td>1138</td>\n",
       "    </tr>\n",
       "    <tr>\n",
       "      <th>3</th>\n",
       "      <td>2000</td>\n",
       "      <td>1200</td>\n",
       "    </tr>\n",
       "    <tr>\n",
       "      <th>4</th>\n",
       "      <td>2001</td>\n",
       "      <td>2189</td>\n",
       "    </tr>\n",
       "    <tr>\n",
       "      <th>5</th>\n",
       "      <td>2002</td>\n",
       "      <td>1900</td>\n",
       "    </tr>\n",
       "    <tr>\n",
       "      <th>6</th>\n",
       "      <td>2003</td>\n",
       "      <td>9647</td>\n",
       "    </tr>\n",
       "    <tr>\n",
       "      <th>7</th>\n",
       "      <td>2004</td>\n",
       "      <td>2560</td>\n",
       "    </tr>\n",
       "    <tr>\n",
       "      <th>8</th>\n",
       "      <td>2005</td>\n",
       "      <td>59330</td>\n",
       "    </tr>\n",
       "    <tr>\n",
       "      <th>9</th>\n",
       "      <td>2006</td>\n",
       "      <td>12391</td>\n",
       "    </tr>\n",
       "    <tr>\n",
       "      <th>10</th>\n",
       "      <td>2007</td>\n",
       "      <td>4095271</td>\n",
       "    </tr>\n",
       "    <tr>\n",
       "      <th>11</th>\n",
       "      <td>2008</td>\n",
       "      <td>75570</td>\n",
       "    </tr>\n",
       "    <tr>\n",
       "      <th>12</th>\n",
       "      <td>2009</td>\n",
       "      <td>223173</td>\n",
       "    </tr>\n",
       "    <tr>\n",
       "      <th>13</th>\n",
       "      <td>2010</td>\n",
       "      <td>364817</td>\n",
       "    </tr>\n",
       "    <tr>\n",
       "      <th>14</th>\n",
       "      <td>2011</td>\n",
       "      <td>169849</td>\n",
       "    </tr>\n",
       "    <tr>\n",
       "      <th>15</th>\n",
       "      <td>2012</td>\n",
       "      <td>333005</td>\n",
       "    </tr>\n",
       "    <tr>\n",
       "      <th>16</th>\n",
       "      <td>2013</td>\n",
       "      <td>41712</td>\n",
       "    </tr>\n",
       "    <tr>\n",
       "      <th>17</th>\n",
       "      <td>2014</td>\n",
       "      <td>10154245</td>\n",
       "    </tr>\n",
       "    <tr>\n",
       "      <th>18</th>\n",
       "      <td>2015</td>\n",
       "      <td>499086</td>\n",
       "    </tr>\n",
       "    <tr>\n",
       "      <th>19</th>\n",
       "      <td>2016</td>\n",
       "      <td>178521</td>\n",
       "    </tr>\n",
       "    <tr>\n",
       "      <th>20</th>\n",
       "      <td>2017</td>\n",
       "      <td>264112</td>\n",
       "    </tr>\n",
       "    <tr>\n",
       "      <th>21</th>\n",
       "      <td>2018</td>\n",
       "      <td>1780968</td>\n",
       "    </tr>\n",
       "    <tr>\n",
       "      <th>22</th>\n",
       "      <td>2019</td>\n",
       "      <td>625262</td>\n",
       "    </tr>\n",
       "    <tr>\n",
       "      <th>23</th>\n",
       "      <td>2020</td>\n",
       "      <td>459691</td>\n",
       "    </tr>\n",
       "  </tbody>\n",
       "</table>\n",
       "</div>"
      ],
      "text/plain": [
       "    year    number\n",
       "0   1997       630\n",
       "1   1998       764\n",
       "2   1999      1138\n",
       "3   2000      1200\n",
       "4   2001      2189\n",
       "5   2002      1900\n",
       "6   2003      9647\n",
       "7   2004      2560\n",
       "8   2005     59330\n",
       "9   2006     12391\n",
       "10  2007   4095271\n",
       "11  2008     75570\n",
       "12  2009    223173\n",
       "13  2010    364817\n",
       "14  2011    169849\n",
       "15  2012    333005\n",
       "16  2013     41712\n",
       "17  2014  10154245\n",
       "18  2015    499086\n",
       "19  2016    178521\n",
       "20  2017    264112\n",
       "21  2018   1780968\n",
       "22  2019    625262\n",
       "23  2020    459691"
      ]
     },
     "execution_count": 23,
     "metadata": {},
     "output_type": "execute_result"
    }
   ],
   "source": [
    "bflies.groupby('year')['number'].sum().reset_index()"
   ]
  },
  {
   "cell_type": "code",
   "execution_count": 17,
   "id": "5a3236f0-9dde-4a90-9775-ccfb61b9dcaf",
   "metadata": {},
   "outputs": [
    {
     "data": {
      "text/html": [
       "<div>\n",
       "<style scoped>\n",
       "    .dataframe tbody tr th:only-of-type {\n",
       "        vertical-align: middle;\n",
       "    }\n",
       "\n",
       "    .dataframe tbody tr th {\n",
       "        vertical-align: top;\n",
       "    }\n",
       "\n",
       "    .dataframe thead th {\n",
       "        text-align: right;\n",
       "    }\n",
       "</style>\n",
       "<table border=\"1\" class=\"dataframe\">\n",
       "  <thead>\n",
       "    <tr style=\"text-align: right;\">\n",
       "      <th></th>\n",
       "      <th>year</th>\n",
       "      <th>number</th>\n",
       "    </tr>\n",
       "  </thead>\n",
       "  <tbody>\n",
       "    <tr>\n",
       "      <th>0</th>\n",
       "      <td>1997</td>\n",
       "      <td>630</td>\n",
       "    </tr>\n",
       "    <tr>\n",
       "      <th>1</th>\n",
       "      <td>1998</td>\n",
       "      <td>764</td>\n",
       "    </tr>\n",
       "    <tr>\n",
       "      <th>2</th>\n",
       "      <td>1999</td>\n",
       "      <td>1138</td>\n",
       "    </tr>\n",
       "    <tr>\n",
       "      <th>3</th>\n",
       "      <td>2000</td>\n",
       "      <td>1200</td>\n",
       "    </tr>\n",
       "    <tr>\n",
       "      <th>4</th>\n",
       "      <td>2001</td>\n",
       "      <td>2189</td>\n",
       "    </tr>\n",
       "    <tr>\n",
       "      <th>5</th>\n",
       "      <td>2002</td>\n",
       "      <td>1900</td>\n",
       "    </tr>\n",
       "    <tr>\n",
       "      <th>6</th>\n",
       "      <td>2003</td>\n",
       "      <td>9647</td>\n",
       "    </tr>\n",
       "    <tr>\n",
       "      <th>7</th>\n",
       "      <td>2004</td>\n",
       "      <td>2560</td>\n",
       "    </tr>\n",
       "    <tr>\n",
       "      <th>8</th>\n",
       "      <td>2005</td>\n",
       "      <td>59330</td>\n",
       "    </tr>\n",
       "    <tr>\n",
       "      <th>9</th>\n",
       "      <td>2006</td>\n",
       "      <td>12391</td>\n",
       "    </tr>\n",
       "    <tr>\n",
       "      <th>10</th>\n",
       "      <td>2007</td>\n",
       "      <td>4095271</td>\n",
       "    </tr>\n",
       "    <tr>\n",
       "      <th>11</th>\n",
       "      <td>2008</td>\n",
       "      <td>75570</td>\n",
       "    </tr>\n",
       "    <tr>\n",
       "      <th>12</th>\n",
       "      <td>2009</td>\n",
       "      <td>223173</td>\n",
       "    </tr>\n",
       "    <tr>\n",
       "      <th>13</th>\n",
       "      <td>2010</td>\n",
       "      <td>364817</td>\n",
       "    </tr>\n",
       "    <tr>\n",
       "      <th>14</th>\n",
       "      <td>2011</td>\n",
       "      <td>169849</td>\n",
       "    </tr>\n",
       "    <tr>\n",
       "      <th>15</th>\n",
       "      <td>2012</td>\n",
       "      <td>333005</td>\n",
       "    </tr>\n",
       "    <tr>\n",
       "      <th>16</th>\n",
       "      <td>2013</td>\n",
       "      <td>41712</td>\n",
       "    </tr>\n",
       "    <tr>\n",
       "      <th>17</th>\n",
       "      <td>2014</td>\n",
       "      <td>10154245</td>\n",
       "    </tr>\n",
       "    <tr>\n",
       "      <th>18</th>\n",
       "      <td>2015</td>\n",
       "      <td>499086</td>\n",
       "    </tr>\n",
       "    <tr>\n",
       "      <th>19</th>\n",
       "      <td>2016</td>\n",
       "      <td>178521</td>\n",
       "    </tr>\n",
       "    <tr>\n",
       "      <th>20</th>\n",
       "      <td>2017</td>\n",
       "      <td>264112</td>\n",
       "    </tr>\n",
       "    <tr>\n",
       "      <th>21</th>\n",
       "      <td>2018</td>\n",
       "      <td>1780968</td>\n",
       "    </tr>\n",
       "    <tr>\n",
       "      <th>22</th>\n",
       "      <td>2019</td>\n",
       "      <td>625262</td>\n",
       "    </tr>\n",
       "    <tr>\n",
       "      <th>23</th>\n",
       "      <td>2020</td>\n",
       "      <td>459691</td>\n",
       "    </tr>\n",
       "  </tbody>\n",
       "</table>\n",
       "</div>"
      ],
      "text/plain": [
       "    year    number\n",
       "0   1997       630\n",
       "1   1998       764\n",
       "2   1999      1138\n",
       "3   2000      1200\n",
       "4   2001      2189\n",
       "5   2002      1900\n",
       "6   2003      9647\n",
       "7   2004      2560\n",
       "8   2005     59330\n",
       "9   2006     12391\n",
       "10  2007   4095271\n",
       "11  2008     75570\n",
       "12  2009    223173\n",
       "13  2010    364817\n",
       "14  2011    169849\n",
       "15  2012    333005\n",
       "16  2013     41712\n",
       "17  2014  10154245\n",
       "18  2015    499086\n",
       "19  2016    178521\n",
       "20  2017    264112\n",
       "21  2018   1780968\n",
       "22  2019    625262\n",
       "23  2020    459691"
      ]
     },
     "execution_count": 17,
     "metadata": {},
     "output_type": "execute_result"
    }
   ],
   "source": [
    "bflies.groupby('year')['number'].sum().reset_index()"
   ]
  },
  {
   "cell_type": "code",
   "execution_count": 19,
   "id": "56db1876-e7d0-4df4-8ce4-87d6b4a57d10",
   "metadata": {},
   "outputs": [],
   "source": [
    "# pdp['year'] = np.where(\n",
    "#     (pdp['year'] >= 0) & (pdp['year'] <= 20),\n",
    "#     2000 + pdp['year'],\n",
    "#     np.where(\n",
    "#         (pdp['year'] > 20) & (pdp['year'] <= 99),\n",
    "#         1900 + pdp['year'],\n",
    "#         np.nan\n",
    "#     ))\n",
    "# pdp['year'] = pdp['year'].astype(int)\n",
    "# pdp.dropna()"
   ]
  },
  {
   "cell_type": "code",
   "execution_count": 24,
   "id": "83031324-df8e-47d0-880d-6fb0513734a0",
   "metadata": {},
   "outputs": [],
   "source": [
    "pdp['year'] = pdp['year'].astype(int)"
   ]
  },
  {
   "cell_type": "code",
   "execution_count": 25,
   "id": "30f16720-a487-4139-bb2e-5cab94f6fd7f",
   "metadata": {},
   "outputs": [
    {
     "data": {
      "text/html": [
       "<div>\n",
       "<style scoped>\n",
       "    .dataframe tbody tr th:only-of-type {\n",
       "        vertical-align: middle;\n",
       "    }\n",
       "\n",
       "    .dataframe tbody tr th {\n",
       "        vertical-align: top;\n",
       "    }\n",
       "\n",
       "    .dataframe thead th {\n",
       "        text-align: right;\n",
       "    }\n",
       "</style>\n",
       "<table border=\"1\" class=\"dataframe\">\n",
       "  <thead>\n",
       "    <tr style=\"text-align: right;\">\n",
       "      <th></th>\n",
       "      <th>sample_id</th>\n",
       "      <th>state</th>\n",
       "      <th>year</th>\n",
       "      <th>concentration</th>\n",
       "      <th>pesticide_code</th>\n",
       "      <th>pesticide_name</th>\n",
       "      <th>max_concentration</th>\n",
       "      <th>concentration_normalized</th>\n",
       "    </tr>\n",
       "  </thead>\n",
       "  <tbody>\n",
       "    <tr>\n",
       "      <th>0</th>\n",
       "      <td>MO9701140340WHUS3</td>\n",
       "      <td>MO</td>\n",
       "      <td>1997</td>\n",
       "      <td>0.033</td>\n",
       "      <td>52</td>\n",
       "      <td>Malathion</td>\n",
       "      <td>331.0</td>\n",
       "      <td>0.000100</td>\n",
       "    </tr>\n",
       "    <tr>\n",
       "      <th>1</th>\n",
       "      <td>CA9701060304AJCA1</td>\n",
       "      <td>CA</td>\n",
       "      <td>1997</td>\n",
       "      <td>0.330</td>\n",
       "      <td>157</td>\n",
       "      <td>Thiabendazole</td>\n",
       "      <td>7.4</td>\n",
       "      <td>0.044595</td>\n",
       "    </tr>\n",
       "    <tr>\n",
       "      <th>2</th>\n",
       "      <td>CA9701070112AJCA1</td>\n",
       "      <td>CA</td>\n",
       "      <td>1997</td>\n",
       "      <td>0.013</td>\n",
       "      <td>42</td>\n",
       "      <td>Azinphos methyl</td>\n",
       "      <td>45.0</td>\n",
       "      <td>0.000289</td>\n",
       "    </tr>\n",
       "    <tr>\n",
       "      <th>3</th>\n",
       "      <td>CA9701070112AJCA1</td>\n",
       "      <td>CA</td>\n",
       "      <td>1997</td>\n",
       "      <td>0.310</td>\n",
       "      <td>157</td>\n",
       "      <td>Thiabendazole</td>\n",
       "      <td>7.4</td>\n",
       "      <td>0.041892</td>\n",
       "    </tr>\n",
       "    <tr>\n",
       "      <th>4</th>\n",
       "      <td>CA9702240307AJCA1</td>\n",
       "      <td>CA</td>\n",
       "      <td>1997</td>\n",
       "      <td>0.640</td>\n",
       "      <td>157</td>\n",
       "      <td>Thiabendazole</td>\n",
       "      <td>7.4</td>\n",
       "      <td>0.086486</td>\n",
       "    </tr>\n",
       "  </tbody>\n",
       "</table>\n",
       "</div>"
      ],
      "text/plain": [
       "           sample_id state  year  concentration pesticide_code  \\\n",
       "0  MO9701140340WHUS3    MO  1997          0.033             52   \n",
       "1  CA9701060304AJCA1    CA  1997          0.330            157   \n",
       "2  CA9701070112AJCA1    CA  1997          0.013             42   \n",
       "3  CA9701070112AJCA1    CA  1997          0.310            157   \n",
       "4  CA9702240307AJCA1    CA  1997          0.640            157   \n",
       "\n",
       "    pesticide_name  max_concentration  concentration_normalized  \n",
       "0        Malathion              331.0                  0.000100  \n",
       "1    Thiabendazole                7.4                  0.044595  \n",
       "2  Azinphos methyl               45.0                  0.000289  \n",
       "3    Thiabendazole                7.4                  0.041892  \n",
       "4    Thiabendazole                7.4                  0.086486  "
      ]
     },
     "execution_count": 25,
     "metadata": {},
     "output_type": "execute_result"
    }
   ],
   "source": [
    "pdp.head()"
   ]
  },
  {
   "cell_type": "code",
   "execution_count": 26,
   "id": "481f0abf-b406-4574-bc91-fa8fb789fae3",
   "metadata": {},
   "outputs": [
    {
     "data": {
      "text/html": [
       "<div>\n",
       "<style scoped>\n",
       "    .dataframe tbody tr th:only-of-type {\n",
       "        vertical-align: middle;\n",
       "    }\n",
       "\n",
       "    .dataframe tbody tr th {\n",
       "        vertical-align: top;\n",
       "    }\n",
       "\n",
       "    .dataframe thead th {\n",
       "        text-align: right;\n",
       "    }\n",
       "</style>\n",
       "<table border=\"1\" class=\"dataframe\">\n",
       "  <thead>\n",
       "    <tr style=\"text-align: right;\">\n",
       "      <th></th>\n",
       "      <th>sample_id</th>\n",
       "      <th>state</th>\n",
       "      <th>year</th>\n",
       "      <th>concentration</th>\n",
       "      <th>pesticide_code</th>\n",
       "      <th>pesticide_name</th>\n",
       "      <th>max_concentration</th>\n",
       "      <th>concentration_normalized</th>\n",
       "    </tr>\n",
       "  </thead>\n",
       "  <tbody>\n",
       "    <tr>\n",
       "      <th>0</th>\n",
       "      <td>MO9701140340WHUS3</td>\n",
       "      <td>MO</td>\n",
       "      <td>1997</td>\n",
       "      <td>0.0330</td>\n",
       "      <td>52</td>\n",
       "      <td>Malathion</td>\n",
       "      <td>331.000</td>\n",
       "      <td>0.000100</td>\n",
       "    </tr>\n",
       "    <tr>\n",
       "      <th>1</th>\n",
       "      <td>CA9701060304AJCA1</td>\n",
       "      <td>CA</td>\n",
       "      <td>1997</td>\n",
       "      <td>0.3300</td>\n",
       "      <td>157</td>\n",
       "      <td>Thiabendazole</td>\n",
       "      <td>7.400</td>\n",
       "      <td>0.044595</td>\n",
       "    </tr>\n",
       "    <tr>\n",
       "      <th>2</th>\n",
       "      <td>CA9701070112AJCA1</td>\n",
       "      <td>CA</td>\n",
       "      <td>1997</td>\n",
       "      <td>0.0130</td>\n",
       "      <td>42</td>\n",
       "      <td>Azinphos methyl</td>\n",
       "      <td>45.000</td>\n",
       "      <td>0.000289</td>\n",
       "    </tr>\n",
       "    <tr>\n",
       "      <th>3</th>\n",
       "      <td>CA9701070112AJCA1</td>\n",
       "      <td>CA</td>\n",
       "      <td>1997</td>\n",
       "      <td>0.3100</td>\n",
       "      <td>157</td>\n",
       "      <td>Thiabendazole</td>\n",
       "      <td>7.400</td>\n",
       "      <td>0.041892</td>\n",
       "    </tr>\n",
       "    <tr>\n",
       "      <th>4</th>\n",
       "      <td>CA9702240307AJCA1</td>\n",
       "      <td>CA</td>\n",
       "      <td>1997</td>\n",
       "      <td>0.6400</td>\n",
       "      <td>157</td>\n",
       "      <td>Thiabendazole</td>\n",
       "      <td>7.400</td>\n",
       "      <td>0.086486</td>\n",
       "    </tr>\n",
       "    <tr>\n",
       "      <th>...</th>\n",
       "      <td>...</td>\n",
       "      <td>...</td>\n",
       "      <td>...</td>\n",
       "      <td>...</td>\n",
       "      <td>...</td>\n",
       "      <td>...</td>\n",
       "      <td>...</td>\n",
       "      <td>...</td>\n",
       "    </tr>\n",
       "    <tr>\n",
       "      <th>514135</th>\n",
       "      <td>TX2001130216BNOH1</td>\n",
       "      <td>TX</td>\n",
       "      <td>2020</td>\n",
       "      <td>0.0072</td>\n",
       "      <td>B48</td>\n",
       "      <td>Azoxystrobin</td>\n",
       "      <td>662.000</td>\n",
       "      <td>0.000011</td>\n",
       "    </tr>\n",
       "    <tr>\n",
       "      <th>514136</th>\n",
       "      <td>TX2006010216BNOH1P</td>\n",
       "      <td>TX</td>\n",
       "      <td>2020</td>\n",
       "      <td>0.0033</td>\n",
       "      <td>B48</td>\n",
       "      <td>Azoxystrobin</td>\n",
       "      <td>662.000</td>\n",
       "      <td>0.000005</td>\n",
       "    </tr>\n",
       "    <tr>\n",
       "      <th>514137</th>\n",
       "      <td>TX2010050108BNOH1P</td>\n",
       "      <td>TX</td>\n",
       "      <td>2020</td>\n",
       "      <td>0.0068</td>\n",
       "      <td>B48</td>\n",
       "      <td>Azoxystrobin</td>\n",
       "      <td>662.000</td>\n",
       "      <td>0.000010</td>\n",
       "    </tr>\n",
       "    <tr>\n",
       "      <th>514138</th>\n",
       "      <td>TX2006010216BNOH1P</td>\n",
       "      <td>TX</td>\n",
       "      <td>2020</td>\n",
       "      <td>0.0172</td>\n",
       "      <td>B52</td>\n",
       "      <td>Buprofezin</td>\n",
       "      <td>4.959</td>\n",
       "      <td>0.003468</td>\n",
       "    </tr>\n",
       "    <tr>\n",
       "      <th>514139</th>\n",
       "      <td>TX2010050108BNOH1P</td>\n",
       "      <td>TX</td>\n",
       "      <td>2020</td>\n",
       "      <td>0.0326</td>\n",
       "      <td>B52</td>\n",
       "      <td>Buprofezin</td>\n",
       "      <td>4.959</td>\n",
       "      <td>0.006574</td>\n",
       "    </tr>\n",
       "  </tbody>\n",
       "</table>\n",
       "<p>514140 rows × 8 columns</p>\n",
       "</div>"
      ],
      "text/plain": [
       "                 sample_id state  year  concentration pesticide_code  \\\n",
       "0        MO9701140340WHUS3    MO  1997         0.0330             52   \n",
       "1        CA9701060304AJCA1    CA  1997         0.3300            157   \n",
       "2        CA9701070112AJCA1    CA  1997         0.0130             42   \n",
       "3        CA9701070112AJCA1    CA  1997         0.3100            157   \n",
       "4        CA9702240307AJCA1    CA  1997         0.6400            157   \n",
       "...                    ...   ...   ...            ...            ...   \n",
       "514135   TX2001130216BNOH1    TX  2020         0.0072            B48   \n",
       "514136  TX2006010216BNOH1P    TX  2020         0.0033            B48   \n",
       "514137  TX2010050108BNOH1P    TX  2020         0.0068            B48   \n",
       "514138  TX2006010216BNOH1P    TX  2020         0.0172            B52   \n",
       "514139  TX2010050108BNOH1P    TX  2020         0.0326            B52   \n",
       "\n",
       "         pesticide_name  max_concentration  concentration_normalized  \n",
       "0             Malathion            331.000                  0.000100  \n",
       "1         Thiabendazole              7.400                  0.044595  \n",
       "2       Azinphos methyl             45.000                  0.000289  \n",
       "3         Thiabendazole              7.400                  0.041892  \n",
       "4         Thiabendazole              7.400                  0.086486  \n",
       "...                 ...                ...                       ...  \n",
       "514135     Azoxystrobin            662.000                  0.000011  \n",
       "514136     Azoxystrobin            662.000                  0.000005  \n",
       "514137     Azoxystrobin            662.000                  0.000010  \n",
       "514138       Buprofezin              4.959                  0.003468  \n",
       "514139       Buprofezin              4.959                  0.006574  \n",
       "\n",
       "[514140 rows x 8 columns]"
      ]
     },
     "execution_count": 26,
     "metadata": {},
     "output_type": "execute_result"
    }
   ],
   "source": [
    "pdp.dropna()"
   ]
  },
  {
   "cell_type": "code",
   "execution_count": null,
   "id": "5140f3ed-8f6d-4a12-b004-71eb64fa6ef3",
   "metadata": {},
   "outputs": [],
   "source": [
    "pdp.to_csv(\"pdp_data.csv\")"
   ]
  },
  {
   "cell_type": "code",
   "execution_count": null,
   "id": "f05b4d42-409d-4fd9-84d8-40325a7cafca",
   "metadata": {},
   "outputs": [],
   "source": [
    "bflies['year'] = np.where(\n",
    "    (bflies['year'] >= 0) & (bflies['year'] <= 20),\n",
    "    2000 + bflies['year'],\n",
    "    np.where(\n",
    "        (bflies['year'] > 20) & (bflies['year'] <= 99),\n",
    "        1900 + bflies['year'],\n",
    "        np.nan\n",
    "    ))\n"
   ]
  },
  {
   "cell_type": "code",
   "execution_count": null,
   "id": "d779a133-2c00-477e-abaf-24fd09831e55",
   "metadata": {},
   "outputs": [],
   "source": [
    "bflies['year'] = bflies['year'].astype(int)"
   ]
  },
  {
   "cell_type": "code",
   "execution_count": null,
   "id": "7f76a569-2800-48f2-a042-3d75fa8d9c26",
   "metadata": {},
   "outputs": [],
   "source": [
    "bflies.dropna()\n",
    "bflies.head()"
   ]
  },
  {
   "cell_type": "code",
   "execution_count": null,
   "id": "6b5832ea-56ba-4cd7-8cc0-0ffec97e789f",
   "metadata": {},
   "outputs": [],
   "source": [
    "bflies.to_csv(\"butterflies_data.csv\")"
   ]
  },
  {
   "cell_type": "code",
   "execution_count": null,
   "id": "2af41e11-9824-44a3-845f-016a03d72ea6",
   "metadata": {},
   "outputs": [],
   "source": [
    "for s in pesticides:\n",
    "    pdp['concentration_max']"
   ]
  },
  {
   "cell_type": "code",
   "execution_count": null,
   "id": "a12fc95f-5a35-4153-95bb-5d227c642112",
   "metadata": {},
   "outputs": [],
   "source": []
  },
  {
   "cell_type": "code",
   "execution_count": 27,
   "id": "6de55e2f-ad3b-4d71-825b-5777653bd5f1",
   "metadata": {},
   "outputs": [],
   "source": [
    "pdp['maxconcentration'] = pdp.groupby('pesticide_name')['concentration'].transform('max')"
   ]
  },
  {
   "cell_type": "code",
   "execution_count": null,
   "id": "5432771d-24a2-40e0-aad6-3132b547cb60",
   "metadata": {},
   "outputs": [],
   "source": [
    "pdp"
   ]
  },
  {
   "cell_type": "code",
   "execution_count": 28,
   "id": "f8792fe8-4055-49e3-98e3-554f612c81e9",
   "metadata": {},
   "outputs": [],
   "source": [
    "pdp['pesticide_use_normalized'] = pdp['concentration']/pdp['maxconcentration']"
   ]
  },
  {
   "cell_type": "code",
   "execution_count": null,
   "id": "043ffd5b-362b-439a-b45e-645161c2f4a8",
   "metadata": {},
   "outputs": [],
   "source": [
    "pdp.to_csv(\"pdp_data.csv\")"
   ]
  },
  {
   "cell_type": "code",
   "execution_count": 29,
   "id": "fcff19cd-6664-4fa8-91bb-6ee9402a5af8",
   "metadata": {},
   "outputs": [],
   "source": [
    "years = set()\n",
    "\n",
    "for i in pdp['year']:\n",
    "    years.add(i)"
   ]
  },
  {
   "cell_type": "code",
   "execution_count": 30,
   "id": "556de6d2-8300-4f0d-aec0-b2e9a4131aa8",
   "metadata": {},
   "outputs": [
    {
     "data": {
      "text/plain": [
       "{1997,\n",
       " 1998,\n",
       " 1999,\n",
       " 2000,\n",
       " 2001,\n",
       " 2002,\n",
       " 2003,\n",
       " 2004,\n",
       " 2005,\n",
       " 2006,\n",
       " 2007,\n",
       " 2008,\n",
       " 2009,\n",
       " 2010,\n",
       " 2011,\n",
       " 2012,\n",
       " 2013,\n",
       " 2014,\n",
       " 2015,\n",
       " 2016,\n",
       " 2017,\n",
       " 2018,\n",
       " 2019,\n",
       " 2020}"
      ]
     },
     "execution_count": 30,
     "metadata": {},
     "output_type": "execute_result"
    }
   ],
   "source": [
    "years"
   ]
  },
  {
   "cell_type": "code",
   "execution_count": 31,
   "id": "d9d64823-0415-40a0-9f7d-8961f2267d17",
   "metadata": {},
   "outputs": [],
   "source": [
    "concentration_normalized_averages = pdp.groupby('year')['concentration_normalized'].mean()"
   ]
  },
  {
   "cell_type": "code",
   "execution_count": 40,
   "id": "28703be7-1c8d-4604-bf8e-68d9defdb564",
   "metadata": {},
   "outputs": [
    {
     "data": {
      "text/plain": [
       "year\n",
       "1997    0.028982\n",
       "1998    0.032435\n",
       "1999    0.024809\n",
       "2000    0.021284\n",
       "2001    0.027064\n",
       "2002    0.027148\n",
       "2003    0.019262\n",
       "2004    0.023628\n",
       "2005    0.025634\n",
       "2006    0.015573\n",
       "2007    0.016467\n",
       "2008    0.027779\n",
       "2009    0.031521\n",
       "2010    0.025336\n",
       "2011    0.020210\n",
       "2012    0.022169\n",
       "2013    0.013871\n",
       "2014    0.014586\n",
       "2015    0.025066\n",
       "2016    0.024625\n",
       "2017    0.023281\n",
       "2018    0.016306\n",
       "2019    0.024238\n",
       "2020    0.013772\n",
       "Name: concentration_normalized, dtype: float64"
      ]
     },
     "execution_count": 40,
     "metadata": {},
     "output_type": "execute_result"
    }
   ],
   "source": [
    "concentration_normalized_averages"
   ]
  },
  {
   "cell_type": "code",
   "execution_count": 34,
   "id": "4057ce95-33f9-47d8-9d7d-b8e7b2a2c3ca",
   "metadata": {},
   "outputs": [
    {
     "data": {
      "image/png": "[encoded data removed]",
      "text/plain": [
       "<Figure size 640x480 with 1 Axes>"
      ]
     },
     "metadata": {},
     "output_type": "display_data"
    }
   ],
   "source": [
    "plt.plot(concentration_normalized_averages)\n",
    "plt.title('Pesticide Use Over Time')\n",
    "plt.xlabel('Year')\n",
    "plt.ylabel('Concentration (mg/L)')\n",
    "plt.xticks(rotation=45)\n",
    "plt.grid(True)\n",
    "plt.tight_layout()\n",
    "plt.show()"
   ]
  },
  {
   "cell_type": "code",
   "execution_count": 35,
   "id": "19ea2809-0f67-44e2-9e24-a70249aa4d41",
   "metadata": {},
   "outputs": [],
   "source": [
    "comb = pd.DataFrame()\n",
    "comb['year'] = pdp['year']"
   ]
  },
  {
   "cell_type": "code",
   "execution_count": null,
   "id": "257e49c9-f0c9-4d8e-8ef2-940001527022",
   "metadata": {},
   "outputs": [],
   "source": []
  },
  {
   "cell_type": "code",
   "execution_count": 36,
   "id": "4df857e5-c5b1-4d4b-a6ae-22d9bc464ed6",
   "metadata": {},
   "outputs": [
    {
     "data": {
      "text/plain": [
       "year\n",
       "1997         630\n",
       "1998         764\n",
       "1999        1138\n",
       "2000        1200\n",
       "2001        2189\n",
       "2002        1900\n",
       "2003        9647\n",
       "2004        2560\n",
       "2005       59330\n",
       "2006       12391\n",
       "2007     4095271\n",
       "2008       75570\n",
       "2009      223173\n",
       "2010      364817\n",
       "2011      169849\n",
       "2012      333005\n",
       "2013       41712\n",
       "2014    10154245\n",
       "2015      499086\n",
       "2016      178521\n",
       "2017      264112\n",
       "2018     1780968\n",
       "2019      625262\n",
       "2020      459691\n",
       "Name: number, dtype: int64"
      ]
     },
     "execution_count": 36,
     "metadata": {},
     "output_type": "execute_result"
    }
   ],
   "source": [
    "butterflies_seen_per_year = bflies.groupby('year')['number'].sum()\n",
    "butterflies_seen_per_year"
   ]
  },
  {
   "cell_type": "code",
   "execution_count": 37,
   "id": "99ff96e8-6dad-4b3a-a8c9-735c938c6b5f",
   "metadata": {},
   "outputs": [
    {
     "data": {
      "image/png": "[encoded data removed]",
      "text/plain": [
       "<Figure size 640x480 with 1 Axes>"
      ]
     },
     "metadata": {},
     "output_type": "display_data"
    }
   ],
   "source": [
    "plt.plot(butterflies_seen_per_year)\n",
    "plt.title('# of Monarchs documented by Journey North by year')\n",
    "plt.xlabel('Year')\n",
    "plt.ylabel('Number documented')\n",
    "plt.xticks(rotation=45)\n",
    "plt.grid(True)\n",
    "plt.tight_layout()\n",
    "plt.show()"
   ]
  },
  {
   "cell_type": "code",
   "execution_count": 45,
   "id": "5fba2175-9253-4585-9274-530e3c5d78d5",
   "metadata": {},
   "outputs": [
    {
     "data": {
      "text/plain": [
       "<matplotlib.legend.Legend at 0x7304ed5d3740>"
      ]
     },
     "execution_count": 45,
     "metadata": {},
     "output_type": "execute_result"
    },
    {
     "data": {
      "image/png": "[encoded data removed]",
      "text/plain": [
       "<Figure size 700x300 with 1 Axes>"
      ]
     },
     "metadata": {},
     "output_type": "display_data"
    }
   ],
   "source": [
    "train_start = '2000'\n",
    "train_end = '2010'\n",
    "\n",
    "test_start = '2010'\n",
    "test_end = '2020'\n",
    "\n",
    "forecast_start = '2020'\n",
    "forecast_end = '2024'\n",
    "\n",
    "fig, ax = plt.subplots(figsize=(7, 3))\n",
    "butterflies_seen_per_year.loc[train_start:train_end].plot(ax=ax, label = \"Train\")\n",
    "butterflies_seen_per_year.loc[test_start:test_end].plot(ax=ax, label = \"Test\")\n",
    "ax.legend()"
   ]
  },
  {
   "cell_type": "code",
   "execution_count": 70,
   "id": "4f3a463e-aa65-468d-8d36-3d4b60d08703",
   "metadata": {
    "scrolled": true
   },
   "outputs": [
    {
     "name": "stderr",
     "output_type": "stream",
     "text": [
      "/home/michael/virpy/lib/python3.12/site-packages/skforecast/utils/utils.py:1135: UserWarning: Series has no DatetimeIndex nor RangeIndex index. Index is overwritten with a RangeIndex.\n",
      "  warnings.warn(\n",
      "/home/michael/virpy/lib/python3.12/site-packages/skforecast/utils/utils.py:1135: UserWarning: Series has no DatetimeIndex nor RangeIndex index. Index is overwritten with a RangeIndex.\n",
      "  warnings.warn(\n",
      "/home/michael/virpy/lib/python3.12/site-packages/skforecast/utils/utils.py:1197: UserWarning: `last_window` has no DatetimeIndex nor RangeIndex index. Index is overwritten with a RangeIndex.\n",
      "  warnings.warn(\n"
     ]
    },
    {
     "data": {
      "text/plain": [
       "<matplotlib.legend.Legend at 0x7304e8378cb0>"
      ]
     },
     "execution_count": 70,
     "metadata": {},
     "output_type": "execute_result"
    },
    {
     "data": {
      "image/png": "[encoded data removed]",
      "text/plain": [
       "<Figure size 700x300 with 1 Axes>"
      ]
     },
     "metadata": {},
     "output_type": "display_data"
    }
   ],
   "source": [
    "# Define the forecaster\n",
    "forecaster = ForecasterAutoreg(\n",
    "    # Add the sklearn regressor and lags\n",
    "    regressor = DecisionTreeRegressor(random_state = 123),\n",
    "    lags = 2\n",
    ")\n",
    "\n",
    "# Fit the model using train data\n",
    "forecaster.fit(y = butterflies_seen_per_year.loc[train_start:train_end])\n",
    "\n",
    "# Predict the test period\n",
    "predicted_test = forecaster.predict(steps = len(butterflies_seen_per_year.loc[test_start:test_end]))\n",
    "\n",
    "fig, ax = plt.subplots(figsize=(7, 3))\n",
    "ax.set_xlim([1997, 2024])\n",
    "#butterflies_seen_per_year.loc[train_start:forecast_end].plot(ax=ax, label = \"Test\")\n",
    "predicted_test.plot(ax = ax, label = 'Predicted DT')\n",
    "ax.legend()"
   ]
  },
  {
   "cell_type": "code",
   "execution_count": 57,
   "id": "740a27b4-b51d-4d0b-b782-166cc37757a6",
   "metadata": {},
   "outputs": [
    {
     "data": {
      "text/plain": [
       "(1997.0, 2020.0)"
      ]
     },
     "execution_count": 57,
     "metadata": {},
     "output_type": "execute_result"
    }
   ],
   "source": [
    "ax.set_xlim([1997, 2020])"
   ]
  },
  {
   "cell_type": "code",
   "execution_count": 71,
   "id": "495170e8-5359-4351-8dc0-2ab36c786d0f",
   "metadata": {},
   "outputs": [
    {
     "name": "stdout",
     "output_type": "stream",
     "text": [
      "2     364817.0\n",
      "3     364817.0\n",
      "4     364817.0\n",
      "5     364817.0\n",
      "6     364817.0\n",
      "7     364817.0\n",
      "8     364817.0\n",
      "9     364817.0\n",
      "10    364817.0\n",
      "11    364817.0\n",
      "12    364817.0\n",
      "Name: pred, dtype: float64\n"
     ]
    }
   ],
   "source": [
    "print(predicted_test)"
   ]
  },
  {
   "cell_type": "code",
   "execution_count": 74,
   "id": "c26b03ce-216b-497c-8a1f-99b1aa9ce770",
   "metadata": {},
   "outputs": [],
   "source": [
    "infant_mortality = pd.read_csv('/home/michael/Downloads/infant_2022.csv')\n"
   ]
  },
  {
   "cell_type": "code",
   "execution_count": 98,
   "id": "5c7ea2a9-7501-4cf4-a21c-8bcde5860cde",
   "metadata": {},
   "outputs": [],
   "source": [
    "r2_pesticides_butterflies = r2_score(concentration_normalized_averages, butterflies_seen_per_year)\n"
   ]
  },
  {
   "cell_type": "code",
   "execution_count": 100,
   "id": "49fc7342-15ac-4afc-b2bf-a6b6cb7cb64a",
   "metadata": {},
   "outputs": [
    {
     "data": {
      "text/plain": [
       "-1.8181338154522227e+17"
      ]
     },
     "execution_count": 100,
     "metadata": {},
     "output_type": "execute_result"
    }
   ],
   "source": [
    "r2_pesticides_butterflies"
   ]
  },
  {
   "cell_type": "code",
   "execution_count": 86,
   "id": "1c37c3f8-2595-43c1-a603-47e6b8ec98cc",
   "metadata": {},
   "outputs": [
    {
     "data": {
      "text/plain": [
       "[nan,\n",
       " nan,\n",
       " nan,\n",
       " nan,\n",
       " nan,\n",
       " nan,\n",
       " nan,\n",
       " nan,\n",
       " np.float64(6.9796000000000005),\n",
       " nan,\n",
       " nan,\n",
       " nan,\n",
       " nan,\n",
       " nan,\n",
       " nan,\n",
       " nan,\n",
       " nan,\n",
       " np.float64(5.935),\n",
       " np.float64(6.1152),\n",
       " np.float64(6.0362),\n",
       " np.float64(5.925799999999999),\n",
       " np.float64(5.841),\n",
       " np.float64(5.76061224489796),\n",
       " np.float64(5.4910000000000005)]"
      ]
     },
     "execution_count": 86,
     "metadata": {},
     "output_type": "execute_result"
    }
   ],
   "source": [
    "avg_per_year"
   ]
  },
  {
   "cell_type": "code",
   "execution_count": 83,
   "id": "d819ed4a-90ae-42f5-9cd3-a73a59a47367",
   "metadata": {},
   "outputs": [
    {
     "data": {
      "text/html": [
       "<div>\n",
       "<style scoped>\n",
       "    .dataframe tbody tr th:only-of-type {\n",
       "        vertical-align: middle;\n",
       "    }\n",
       "\n",
       "    .dataframe tbody tr th {\n",
       "        vertical-align: top;\n",
       "    }\n",
       "\n",
       "    .dataframe thead th {\n",
       "        text-align: right;\n",
       "    }\n",
       "</style>\n",
       "<table border=\"1\" class=\"dataframe\">\n",
       "  <thead>\n",
       "    <tr style=\"text-align: right;\">\n",
       "      <th></th>\n",
       "      <th>YEAR</th>\n",
       "      <th>STATE</th>\n",
       "      <th>RATE</th>\n",
       "      <th>DEATHS</th>\n",
       "      <th>URL</th>\n",
       "    </tr>\n",
       "  </thead>\n",
       "  <tbody>\n",
       "    <tr>\n",
       "      <th>0</th>\n",
       "      <td>2022</td>\n",
       "      <td>AL</td>\n",
       "      <td>6.69</td>\n",
       "      <td>389</td>\n",
       "      <td>/nchs/pressroom/states/alabama/al.htm</td>\n",
       "    </tr>\n",
       "    <tr>\n",
       "      <th>1</th>\n",
       "      <td>2022</td>\n",
       "      <td>AK</td>\n",
       "      <td>6.62</td>\n",
       "      <td>62</td>\n",
       "      <td>/nchs/pressroom/states/alaska/ak.htm</td>\n",
       "    </tr>\n",
       "    <tr>\n",
       "      <th>2</th>\n",
       "      <td>2022</td>\n",
       "      <td>AZ</td>\n",
       "      <td>6.17</td>\n",
       "      <td>485</td>\n",
       "      <td>/nchs/pressroom/states/arizona/az.htm</td>\n",
       "    </tr>\n",
       "    <tr>\n",
       "      <th>3</th>\n",
       "      <td>2022</td>\n",
       "      <td>AR</td>\n",
       "      <td>7.67</td>\n",
       "      <td>272</td>\n",
       "      <td>/nchs/pressroom/states/arkansas/ar.htm</td>\n",
       "    </tr>\n",
       "    <tr>\n",
       "      <th>4</th>\n",
       "      <td>2022</td>\n",
       "      <td>CA</td>\n",
       "      <td>4.11</td>\n",
       "      <td>1724</td>\n",
       "      <td>/nchs/pressroom/states/california/ca.htm</td>\n",
       "    </tr>\n",
       "    <tr>\n",
       "      <th>...</th>\n",
       "      <td>...</td>\n",
       "      <td>...</td>\n",
       "      <td>...</td>\n",
       "      <td>...</td>\n",
       "      <td>...</td>\n",
       "    </tr>\n",
       "    <tr>\n",
       "      <th>496</th>\n",
       "      <td>2005</td>\n",
       "      <td>VA</td>\n",
       "      <td>7.47</td>\n",
       "      <td>781</td>\n",
       "      <td>/nchs/pressroom/states/virginia/virginia.htm</td>\n",
       "    </tr>\n",
       "    <tr>\n",
       "      <th>497</th>\n",
       "      <td>2005</td>\n",
       "      <td>WA</td>\n",
       "      <td>5.07</td>\n",
       "      <td>419</td>\n",
       "      <td>/nchs/pressroom/states/washington/washington.htm</td>\n",
       "    </tr>\n",
       "    <tr>\n",
       "      <th>498</th>\n",
       "      <td>2005</td>\n",
       "      <td>WV</td>\n",
       "      <td>8.16</td>\n",
       "      <td>170</td>\n",
       "      <td>/nchs/pressroom/states/westvirginia/westvirgin...</td>\n",
       "    </tr>\n",
       "    <tr>\n",
       "      <th>499</th>\n",
       "      <td>2005</td>\n",
       "      <td>WI</td>\n",
       "      <td>6.54</td>\n",
       "      <td>464</td>\n",
       "      <td>/nchs/pressroom/states/wisconsin/wisconsin.htm</td>\n",
       "    </tr>\n",
       "    <tr>\n",
       "      <th>500</th>\n",
       "      <td>2005</td>\n",
       "      <td>WY</td>\n",
       "      <td>6.63</td>\n",
       "      <td>48</td>\n",
       "      <td>/nchs/pressroom/states/wyoming/wyoming.htm</td>\n",
       "    </tr>\n",
       "  </tbody>\n",
       "</table>\n",
       "<p>500 rows × 5 columns</p>\n",
       "</div>"
      ],
      "text/plain": [
       "     YEAR STATE  RATE  DEATHS  \\\n",
       "0    2022    AL  6.69     389   \n",
       "1    2022    AK  6.62      62   \n",
       "2    2022    AZ  6.17     485   \n",
       "3    2022    AR  7.67     272   \n",
       "4    2022    CA  4.11    1724   \n",
       "..    ...   ...   ...     ...   \n",
       "496  2005    VA  7.47     781   \n",
       "497  2005    WA  5.07     419   \n",
       "498  2005    WV  8.16     170   \n",
       "499  2005    WI  6.54     464   \n",
       "500  2005    WY  6.63      48   \n",
       "\n",
       "                                                   URL  \n",
       "0                /nchs/pressroom/states/alabama/al.htm  \n",
       "1                 /nchs/pressroom/states/alaska/ak.htm  \n",
       "2                /nchs/pressroom/states/arizona/az.htm  \n",
       "3               /nchs/pressroom/states/arkansas/ar.htm  \n",
       "4             /nchs/pressroom/states/california/ca.htm  \n",
       "..                                                 ...  \n",
       "496       /nchs/pressroom/states/virginia/virginia.htm  \n",
       "497   /nchs/pressroom/states/washington/washington.htm  \n",
       "498  /nchs/pressroom/states/westvirginia/westvirgin...  \n",
       "499     /nchs/pressroom/states/wisconsin/wisconsin.htm  \n",
       "500         /nchs/pressroom/states/wyoming/wyoming.htm  \n",
       "\n",
       "[500 rows x 5 columns]"
      ]
     },
     "execution_count": 83,
     "metadata": {},
     "output_type": "execute_result"
    }
   ],
   "source": [
    "infant_mortality = pd.read_csv('/home/michael/Downloads/infant_2022.csv')\n",
    "infant_mortality = infant_mortality[infant_mortality.RATE != 'Unreliable']\n",
    "infant_mortality['RATE'] = infant_mortality['RATE'].astype(float)\n",
    "infant_mortality"
   ]
  },
  {
   "cell_type": "code",
   "execution_count": 91,
   "id": "3580faa2-f4e5-4f07-881f-403fb0a142d2",
   "metadata": {},
   "outputs": [],
   "source": [
    "avg_per_year = []\n",
    "for year in years:\n",
    "    avg_per_year.append(infant_mortality[infant_mortality['YEAR'] == year]['RATE'].mean())\n"
   ]
  },
  {
   "cell_type": "code",
   "execution_count": 92,
   "id": "b9135d9a-19c5-4272-87f2-611efbe0233a",
   "metadata": {},
   "outputs": [
    {
     "name": "stdout",
     "output_type": "stream",
     "text": [
      "Original NumPy Array: [       nan        nan        nan        nan        nan        nan\n",
      "        nan        nan 6.9796            nan        nan        nan\n",
      "        nan        nan        nan        nan        nan 5.935\n",
      " 6.1152     6.0362     5.9258     5.841      5.76061224 5.491     ]\n",
      "Mean of non-NaN values: 6.010551530612245\n",
      "NaN Mask: [ True  True  True  True  True  True  True  True False  True  True  True\n",
      "  True  True  True  True  True False False False False False False False]\n",
      "Cleaned NumPy Array: [6.01055153 6.01055153 6.01055153 6.01055153 6.01055153 6.01055153\n",
      " 6.01055153 6.01055153 6.9796     6.01055153 6.01055153 6.01055153\n",
      " 6.01055153 6.01055153 6.01055153 6.01055153 6.01055153 5.935\n",
      " 6.1152     6.0362     5.9258     5.841      5.76061224 5.491     ]\n"
     ]
    }
   ],
   "source": [
    "# Convert List to NumPy Array\n",
    "np_data = np.array(avg_per_year)\n",
    "print(f\"Original NumPy Array: {np_data}\")  # Output: [1.5 2.3 nan 4.7 nan 6.1]\n",
    "\n",
    "# Step 1: Calculate the mean excluding NaNs\n",
    "mean_val = np.nanmean(np_data)\n",
    "print(f\"Mean of non-NaN values: {mean_val}\")  # Output: 3.68\n",
    "\n",
    "# Step 2: Identify NaNs\n",
    "nan_mask = np.isnan(np_data)\n",
    "print(f\"NaN Mask: {nan_mask}\")  # Output: [False False  True False  True False]\n",
    "\n",
    "# Step 3: Replace NaNs with the mean value\n",
    "np_data[nan_mask] = mean_val\n",
    "print(f\"Cleaned NumPy Array: {np_data}\")  # Output: [1.5 2.3 3.68 4.7 3.68 6.1]"
   ]
  },
  {
   "cell_type": "code",
   "execution_count": 102,
   "id": "fd327456-f292-4420-a023-cbd4f6e0a98d",
   "metadata": {},
   "outputs": [],
   "source": [
    "r2_pesticides_infants = r2_score(concentration_normalized_averages, np_data)\n"
   ]
  },
  {
   "cell_type": "code",
   "execution_count": 103,
   "id": "3a1e31e4-0ccf-42a5-902d-cd0328b2c121",
   "metadata": {},
   "outputs": [
    {
     "data": {
      "text/plain": [
       "-1260173.9282206977"
      ]
     },
     "execution_count": 103,
     "metadata": {},
     "output_type": "execute_result"
    }
   ],
   "source": [
    "r2_pesticides_infants"
   ]
  },
  {
   "cell_type": "code",
   "execution_count": 104,
   "id": "7b6b3a9f-a2c0-45ff-a102-83af69f2428c",
   "metadata": {},
   "outputs": [],
   "source": [
    "r2_butterflies_infants = r2_score(butterflies_seen_per_year, np_data)\n"
   ]
  },
  {
   "cell_type": "code",
   "execution_count": 105,
   "id": "46be68e4-7c4f-48cd-9b23-45a9caea41e2",
   "metadata": {},
   "outputs": [
    {
     "data": {
      "text/plain": [
       "-0.14359026622318294"
      ]
     },
     "execution_count": 105,
     "metadata": {},
     "output_type": "execute_result"
    }
   ],
   "source": [
    "r2_butterflies_infants"
   ]
  },
  {
   "cell_type": "code",
   "execution_count": 106,
   "id": "09650a20-1ba3-464f-b3d6-ead62fca2502",
   "metadata": {},
   "outputs": [
    {
     "data": {
      "text/plain": [
       "[<matplotlib.lines.Line2D at 0x7304e888d340>]"
      ]
     },
     "execution_count": 106,
     "metadata": {},
     "output_type": "execute_result"
    },
    {
     "data": {
      "image/png": "[encoded data removed]",
      "text/plain": [
       "<Figure size 640x480 with 1 Axes>"
      ]
     },
     "metadata": {},
     "output_type": "display_data"
    }
   ],
   "source": []
  },
  {
   "cell_type": "code",
   "execution_count": null,
   "id": "06ffa21b-833a-4c69-955e-576ecd8e08aa",
   "metadata": {},
   "outputs": [],
   "source": []
  }
 ],
 "metadata": {
  "kernelspec": {
   "display_name": "virpy",
   "language": "python",
   "name": "virpy"
  },
  "language_info": {
   "codemirror_mode": {
    "name": "ipython",
    "version": 3
   },
   "file_extension": ".py",
   "mimetype": "text/x-python",
   "name": "python",
   "nbconvert_exporter": "python",
   "pygments_lexer": "ipython3",
   "version": "3.12.6"
  }
 },
 "nbformat": 4,
 "nbformat_minor": 5
}
